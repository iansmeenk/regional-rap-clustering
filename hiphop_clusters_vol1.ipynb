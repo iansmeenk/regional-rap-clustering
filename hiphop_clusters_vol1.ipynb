{
 "cells": [
  {
   "cell_type": "code",
   "execution_count": 22,
   "metadata": {
    "collapsed": true
   },
   "outputs": [],
   "source": [
    "import pandas as pd\n",
    "import seaborn as sns\n",
    "from sklearn.cluster import KMeans\n",
    "\n",
    "%matplotlib inline\n",
    "pd.set_option('display.max_columns', 50)"
   ]
  },
  {
   "cell_type": "code",
   "execution_count": 4,
   "metadata": {
    "collapsed": true
   },
   "outputs": [],
   "source": [
    "songs = pd.read_csv('data/playlists1.csv')"
   ]
  },
  {
   "cell_type": "code",
   "execution_count": 5,
   "metadata": {},
   "outputs": [
    {
     "data": {
      "text/html": [
       "<div>\n",
       "<style>\n",
       "    .dataframe thead tr:only-child th {\n",
       "        text-align: right;\n",
       "    }\n",
       "\n",
       "    .dataframe thead th {\n",
       "        text-align: left;\n",
       "    }\n",
       "\n",
       "    .dataframe tbody tr th {\n",
       "        vertical-align: top;\n",
       "    }\n",
       "</style>\n",
       "<table border=\"1\" class=\"dataframe\">\n",
       "  <thead>\n",
       "    <tr style=\"text-align: right;\">\n",
       "      <th></th>\n",
       "      <th>album</th>\n",
       "      <th>artistPrimary</th>\n",
       "      <th>artists</th>\n",
       "      <th>id</th>\n",
       "      <th>songLength</th>\n",
       "      <th>title</th>\n",
       "      <th>year</th>\n",
       "      <th>acousticness</th>\n",
       "      <th>analysis_url</th>\n",
       "      <th>danceability</th>\n",
       "      <th>duration_ms</th>\n",
       "      <th>energy</th>\n",
       "      <th>instrumentalness</th>\n",
       "      <th>key</th>\n",
       "      <th>liveness</th>\n",
       "      <th>loudness</th>\n",
       "      <th>mode</th>\n",
       "      <th>speechiness</th>\n",
       "      <th>tempo</th>\n",
       "      <th>time_signature</th>\n",
       "      <th>track_href</th>\n",
       "      <th>type</th>\n",
       "      <th>uri</th>\n",
       "      <th>valence</th>\n",
       "      <th>genre</th>\n",
       "    </tr>\n",
       "  </thead>\n",
       "  <tbody>\n",
       "    <tr>\n",
       "      <th>0</th>\n",
       "      <td>Enta da Stage</td>\n",
       "      <td>Black Moon</td>\n",
       "      <td>Black Moon</td>\n",
       "      <td>6Xio661Y2iL7SDKFFOG9cv</td>\n",
       "      <td>270066</td>\n",
       "      <td>Who Got Da Props</td>\n",
       "      <td>1993</td>\n",
       "      <td>0.1380</td>\n",
       "      <td>https://api.spotify.com/v1/audio-analysis/6Xio...</td>\n",
       "      <td>0.805</td>\n",
       "      <td>270067</td>\n",
       "      <td>0.653</td>\n",
       "      <td>0.000000</td>\n",
       "      <td>8</td>\n",
       "      <td>0.100</td>\n",
       "      <td>-11.251</td>\n",
       "      <td>0</td>\n",
       "      <td>0.185</td>\n",
       "      <td>100.349</td>\n",
       "      <td>4</td>\n",
       "      <td>https://api.spotify.com/v1/tracks/6Xio661Y2iL7...</td>\n",
       "      <td>audio_features</td>\n",
       "      <td>spotify:track:6Xio661Y2iL7SDKFFOG9cv</td>\n",
       "      <td>0.257</td>\n",
       "      <td>Boom Bap</td>\n",
       "    </tr>\n",
       "    <tr>\n",
       "      <th>1</th>\n",
       "      <td>Dead Serious</td>\n",
       "      <td>Das EFX</td>\n",
       "      <td>Das EFX</td>\n",
       "      <td>5Zo9KsvmGsFHfwA1zlKv6M</td>\n",
       "      <td>295373</td>\n",
       "      <td>Mic Checka</td>\n",
       "      <td>1992</td>\n",
       "      <td>0.0636</td>\n",
       "      <td>https://api.spotify.com/v1/audio-analysis/5Zo9...</td>\n",
       "      <td>0.720</td>\n",
       "      <td>295373</td>\n",
       "      <td>0.626</td>\n",
       "      <td>0.000000</td>\n",
       "      <td>7</td>\n",
       "      <td>0.114</td>\n",
       "      <td>-13.758</td>\n",
       "      <td>1</td>\n",
       "      <td>0.363</td>\n",
       "      <td>92.224</td>\n",
       "      <td>4</td>\n",
       "      <td>https://api.spotify.com/v1/tracks/5Zo9KsvmGsFH...</td>\n",
       "      <td>audio_features</td>\n",
       "      <td>spotify:track:5Zo9KsvmGsFHfwA1zlKv6M</td>\n",
       "      <td>0.519</td>\n",
       "      <td>Boom Bap</td>\n",
       "    </tr>\n",
       "    <tr>\n",
       "      <th>2</th>\n",
       "      <td>The Sun Rises In The East</td>\n",
       "      <td>Jeru The Damaja</td>\n",
       "      <td>Jeru The Damaja</td>\n",
       "      <td>4kH2kmDkBe2fGIyPQnv3L5</td>\n",
       "      <td>297040</td>\n",
       "      <td>Come Clean - E New Y Radio</td>\n",
       "      <td>1994</td>\n",
       "      <td>0.6240</td>\n",
       "      <td>https://api.spotify.com/v1/audio-analysis/4kH2...</td>\n",
       "      <td>0.794</td>\n",
       "      <td>297040</td>\n",
       "      <td>0.772</td>\n",
       "      <td>0.000041</td>\n",
       "      <td>10</td>\n",
       "      <td>0.114</td>\n",
       "      <td>-13.957</td>\n",
       "      <td>0</td>\n",
       "      <td>0.327</td>\n",
       "      <td>87.546</td>\n",
       "      <td>4</td>\n",
       "      <td>https://api.spotify.com/v1/tracks/4kH2kmDkBe2f...</td>\n",
       "      <td>audio_features</td>\n",
       "      <td>spotify:track:4kH2kmDkBe2fGIyPQnv3L5</td>\n",
       "      <td>0.597</td>\n",
       "      <td>Boom Bap</td>\n",
       "    </tr>\n",
       "    <tr>\n",
       "      <th>3</th>\n",
       "      <td>Illmatic XX</td>\n",
       "      <td>Nas</td>\n",
       "      <td>Nas</td>\n",
       "      <td>5FHXxdJeq1iAE9PjDTEgyd</td>\n",
       "      <td>290573</td>\n",
       "      <td>The World Is Yours</td>\n",
       "      <td>1994</td>\n",
       "      <td>0.2740</td>\n",
       "      <td>https://api.spotify.com/v1/audio-analysis/5FHX...</td>\n",
       "      <td>0.678</td>\n",
       "      <td>290573</td>\n",
       "      <td>0.794</td>\n",
       "      <td>0.000002</td>\n",
       "      <td>10</td>\n",
       "      <td>0.124</td>\n",
       "      <td>-6.186</td>\n",
       "      <td>0</td>\n",
       "      <td>0.140</td>\n",
       "      <td>87.374</td>\n",
       "      <td>4</td>\n",
       "      <td>https://api.spotify.com/v1/tracks/5FHXxdJeq1iA...</td>\n",
       "      <td>audio_features</td>\n",
       "      <td>spotify:track:5FHXxdJeq1iAE9PjDTEgyd</td>\n",
       "      <td>0.540</td>\n",
       "      <td>Boom Bap</td>\n",
       "    </tr>\n",
       "    <tr>\n",
       "      <th>4</th>\n",
       "      <td>Enter The Wu-Tang (36 Chambers) [Expanded Edit...</td>\n",
       "      <td>Wu-Tang Clan</td>\n",
       "      <td>Wu-Tang Clan</td>\n",
       "      <td>119c93MHjrDLJTApCVGpvx</td>\n",
       "      <td>252186</td>\n",
       "      <td>C.R.E.A.M.</td>\n",
       "      <td>1993</td>\n",
       "      <td>0.5700</td>\n",
       "      <td>https://api.spotify.com/v1/audio-analysis/119c...</td>\n",
       "      <td>0.479</td>\n",
       "      <td>252187</td>\n",
       "      <td>0.549</td>\n",
       "      <td>0.023900</td>\n",
       "      <td>11</td>\n",
       "      <td>0.127</td>\n",
       "      <td>-10.551</td>\n",
       "      <td>0</td>\n",
       "      <td>0.373</td>\n",
       "      <td>180.985</td>\n",
       "      <td>4</td>\n",
       "      <td>https://api.spotify.com/v1/tracks/119c93MHjrDL...</td>\n",
       "      <td>audio_features</td>\n",
       "      <td>spotify:track:119c93MHjrDLJTApCVGpvx</td>\n",
       "      <td>0.576</td>\n",
       "      <td>Boom Bap</td>\n",
       "    </tr>\n",
       "  </tbody>\n",
       "</table>\n",
       "</div>"
      ],
      "text/plain": [
       "                                               album    artistPrimary  \\\n",
       "0                                      Enta da Stage       Black Moon   \n",
       "1                                       Dead Serious          Das EFX   \n",
       "2                          The Sun Rises In The East  Jeru The Damaja   \n",
       "3                                        Illmatic XX              Nas   \n",
       "4  Enter The Wu-Tang (36 Chambers) [Expanded Edit...     Wu-Tang Clan   \n",
       "\n",
       "           artists                      id  songLength  \\\n",
       "0       Black Moon  6Xio661Y2iL7SDKFFOG9cv      270066   \n",
       "1          Das EFX  5Zo9KsvmGsFHfwA1zlKv6M      295373   \n",
       "2  Jeru The Damaja  4kH2kmDkBe2fGIyPQnv3L5      297040   \n",
       "3              Nas  5FHXxdJeq1iAE9PjDTEgyd      290573   \n",
       "4     Wu-Tang Clan  119c93MHjrDLJTApCVGpvx      252186   \n",
       "\n",
       "                        title  year  acousticness  \\\n",
       "0            Who Got Da Props  1993        0.1380   \n",
       "1                  Mic Checka  1992        0.0636   \n",
       "2  Come Clean - E New Y Radio  1994        0.6240   \n",
       "3          The World Is Yours  1994        0.2740   \n",
       "4                  C.R.E.A.M.  1993        0.5700   \n",
       "\n",
       "                                        analysis_url  danceability  \\\n",
       "0  https://api.spotify.com/v1/audio-analysis/6Xio...         0.805   \n",
       "1  https://api.spotify.com/v1/audio-analysis/5Zo9...         0.720   \n",
       "2  https://api.spotify.com/v1/audio-analysis/4kH2...         0.794   \n",
       "3  https://api.spotify.com/v1/audio-analysis/5FHX...         0.678   \n",
       "4  https://api.spotify.com/v1/audio-analysis/119c...         0.479   \n",
       "\n",
       "   duration_ms  energy  instrumentalness  key  liveness  loudness  mode  \\\n",
       "0       270067   0.653          0.000000    8     0.100   -11.251     0   \n",
       "1       295373   0.626          0.000000    7     0.114   -13.758     1   \n",
       "2       297040   0.772          0.000041   10     0.114   -13.957     0   \n",
       "3       290573   0.794          0.000002   10     0.124    -6.186     0   \n",
       "4       252187   0.549          0.023900   11     0.127   -10.551     0   \n",
       "\n",
       "   speechiness    tempo  time_signature  \\\n",
       "0        0.185  100.349               4   \n",
       "1        0.363   92.224               4   \n",
       "2        0.327   87.546               4   \n",
       "3        0.140   87.374               4   \n",
       "4        0.373  180.985               4   \n",
       "\n",
       "                                          track_href            type  \\\n",
       "0  https://api.spotify.com/v1/tracks/6Xio661Y2iL7...  audio_features   \n",
       "1  https://api.spotify.com/v1/tracks/5Zo9KsvmGsFH...  audio_features   \n",
       "2  https://api.spotify.com/v1/tracks/4kH2kmDkBe2f...  audio_features   \n",
       "3  https://api.spotify.com/v1/tracks/5FHXxdJeq1iA...  audio_features   \n",
       "4  https://api.spotify.com/v1/tracks/119c93MHjrDL...  audio_features   \n",
       "\n",
       "                                    uri  valence     genre  \n",
       "0  spotify:track:6Xio661Y2iL7SDKFFOG9cv    0.257  Boom Bap  \n",
       "1  spotify:track:5Zo9KsvmGsFHfwA1zlKv6M    0.519  Boom Bap  \n",
       "2  spotify:track:4kH2kmDkBe2fGIyPQnv3L5    0.597  Boom Bap  \n",
       "3  spotify:track:5FHXxdJeq1iAE9PjDTEgyd    0.540  Boom Bap  \n",
       "4  spotify:track:119c93MHjrDLJTApCVGpvx    0.576  Boom Bap  "
      ]
     },
     "execution_count": 5,
     "metadata": {},
     "output_type": "execute_result"
    }
   ],
   "source": [
    "songs.head()"
   ]
  },
  {
   "cell_type": "code",
   "execution_count": 78,
   "metadata": {
    "collapsed": true
   },
   "outputs": [],
   "source": [
    "columns = ['acousticness', 'danceability', 'energy', 'instrumentalness', \n",
    "           'key', 'liveness', 'mode', 'speechiness', 'tempo', 'valence']\n",
    "songs_trim = songs.loc[:, columns]"
   ]
  },
  {
   "cell_type": "code",
   "execution_count": 79,
   "metadata": {
    "collapsed": true
   },
   "outputs": [],
   "source": [
    "songs['cluster'] = KMeans(n_clusters=3).fit_predict(songs_trim)"
   ]
  },
  {
   "cell_type": "code",
   "execution_count": 80,
   "metadata": {},
   "outputs": [
    {
     "data": {
      "text/plain": [
       "<matplotlib.axes._subplots.AxesSubplot at 0x11d339a20>"
      ]
     },
     "execution_count": 80,
     "metadata": {},
     "output_type": "execute_result"
    },
    {
     "data": {
      "image/png": "[encoded data removed]",
      "text/plain": [
       "<matplotlib.figure.Figure at 0x11cff09b0>"
      ]
     },
     "metadata": {},
     "output_type": "display_data"
    }
   ],
   "source": [
    "sns.countplot(x='genre', hue='cluster', data=songs)"
   ]
  },
  {
   "cell_type": "code",
   "execution_count": 81,
   "metadata": {},
   "outputs": [
    {
     "data": {
      "text/html": [
       "<div>\n",
       "<style>\n",
       "    .dataframe thead tr:only-child th {\n",
       "        text-align: right;\n",
       "    }\n",
       "\n",
       "    .dataframe thead th {\n",
       "        text-align: left;\n",
       "    }\n",
       "\n",
       "    .dataframe tbody tr th {\n",
       "        vertical-align: top;\n",
       "    }\n",
       "</style>\n",
       "<table border=\"1\" class=\"dataframe\">\n",
       "  <thead>\n",
       "    <tr style=\"text-align: right;\">\n",
       "      <th></th>\n",
       "      <th>artistPrimary</th>\n",
       "      <th>title</th>\n",
       "      <th>genre</th>\n",
       "      <th>cluster</th>\n",
       "    </tr>\n",
       "  </thead>\n",
       "  <tbody>\n",
       "    <tr>\n",
       "      <th>102</th>\n",
       "      <td>Lil Uzi Vert</td>\n",
       "      <td>XO TOUR Llif3</td>\n",
       "      <td>Trap</td>\n",
       "      <td>0</td>\n",
       "    </tr>\n",
       "    <tr>\n",
       "      <th>103</th>\n",
       "      <td>Offset</td>\n",
       "      <td>Ric Flair Drip (&amp; Metro Boomin)</td>\n",
       "      <td>Trap</td>\n",
       "      <td>1</td>\n",
       "    </tr>\n",
       "    <tr>\n",
       "      <th>110</th>\n",
       "      <td>Yo Gotti</td>\n",
       "      <td>Juice</td>\n",
       "      <td>Trap</td>\n",
       "      <td>0</td>\n",
       "    </tr>\n",
       "    <tr>\n",
       "      <th>112</th>\n",
       "      <td>OutKast</td>\n",
       "      <td>Decatur Psalm</td>\n",
       "      <td>Trap</td>\n",
       "      <td>1</td>\n",
       "    </tr>\n",
       "    <tr>\n",
       "      <th>113</th>\n",
       "      <td>2 Chainz</td>\n",
       "      <td>4 AM</td>\n",
       "      <td>Trap</td>\n",
       "      <td>1</td>\n",
       "    </tr>\n",
       "    <tr>\n",
       "      <th>115</th>\n",
       "      <td>Rich The Kid</td>\n",
       "      <td>Plug Walk</td>\n",
       "      <td>Trap</td>\n",
       "      <td>1</td>\n",
       "    </tr>\n",
       "    <tr>\n",
       "      <th>116</th>\n",
       "      <td>YBN Nahmir</td>\n",
       "      <td>Bounce Out With That</td>\n",
       "      <td>Trap</td>\n",
       "      <td>1</td>\n",
       "    </tr>\n",
       "    <tr>\n",
       "      <th>122</th>\n",
       "      <td>Kodak Black</td>\n",
       "      <td>Tunnel Vision</td>\n",
       "      <td>Trap</td>\n",
       "      <td>0</td>\n",
       "    </tr>\n",
       "    <tr>\n",
       "      <th>135</th>\n",
       "      <td>Tay-K</td>\n",
       "      <td>The Race - Remix</td>\n",
       "      <td>Trap</td>\n",
       "      <td>0</td>\n",
       "    </tr>\n",
       "    <tr>\n",
       "      <th>140</th>\n",
       "      <td>21 Savage</td>\n",
       "      <td>Bank Account</td>\n",
       "      <td>Trap</td>\n",
       "      <td>1</td>\n",
       "    </tr>\n",
       "    <tr>\n",
       "      <th>141</th>\n",
       "      <td>Juicy J</td>\n",
       "      <td>Ain't Nothing</td>\n",
       "      <td>Trap</td>\n",
       "      <td>0</td>\n",
       "    </tr>\n",
       "    <tr>\n",
       "      <th>142</th>\n",
       "      <td>Three 6 Mafia</td>\n",
       "      <td>Hard Out Here for a Pimp</td>\n",
       "      <td>Trap</td>\n",
       "      <td>0</td>\n",
       "    </tr>\n",
       "    <tr>\n",
       "      <th>143</th>\n",
       "      <td>Future</td>\n",
       "      <td>Sh!t</td>\n",
       "      <td>Trap</td>\n",
       "      <td>1</td>\n",
       "    </tr>\n",
       "  </tbody>\n",
       "</table>\n",
       "</div>"
      ],
      "text/plain": [
       "     artistPrimary                            title genre  cluster\n",
       "102   Lil Uzi Vert                    XO TOUR Llif3  Trap        0\n",
       "103         Offset  Ric Flair Drip (& Metro Boomin)  Trap        1\n",
       "110       Yo Gotti                            Juice  Trap        0\n",
       "112        OutKast                    Decatur Psalm  Trap        1\n",
       "113       2 Chainz                             4 AM  Trap        1\n",
       "115   Rich The Kid                        Plug Walk  Trap        1\n",
       "116     YBN Nahmir             Bounce Out With That  Trap        1\n",
       "122    Kodak Black                    Tunnel Vision  Trap        0\n",
       "135          Tay-K                 The Race - Remix  Trap        0\n",
       "140      21 Savage                     Bank Account  Trap        1\n",
       "141        Juicy J                    Ain't Nothing  Trap        0\n",
       "142  Three 6 Mafia         Hard Out Here for a Pimp  Trap        0\n",
       "143         Future                             Sh!t  Trap        1"
      ]
     },
     "execution_count": 81,
     "metadata": {},
     "output_type": "execute_result"
    }
   ],
   "source": [
    "songs.loc[(songs.genre == 'Trap') & (songs.cluster != 2), ['artistPrimary', 'title', 'genre', 'cluster']]"
   ]
  },
  {
   "cell_type": "code",
   "execution_count": 83,
   "metadata": {},
   "outputs": [
    {
     "data": {
      "text/html": [
       "<div>\n",
       "<style>\n",
       "    .dataframe thead tr:only-child th {\n",
       "        text-align: right;\n",
       "    }\n",
       "\n",
       "    .dataframe thead th {\n",
       "        text-align: left;\n",
       "    }\n",
       "\n",
       "    .dataframe tbody tr th {\n",
       "        vertical-align: top;\n",
       "    }\n",
       "</style>\n",
       "<table border=\"1\" class=\"dataframe\">\n",
       "  <thead>\n",
       "    <tr style=\"text-align: right;\">\n",
       "      <th></th>\n",
       "      <th>artistPrimary</th>\n",
       "      <th>title</th>\n",
       "      <th>genre</th>\n",
       "      <th>cluster</th>\n",
       "    </tr>\n",
       "  </thead>\n",
       "  <tbody>\n",
       "    <tr>\n",
       "      <th>53</th>\n",
       "      <td>Above The Law</td>\n",
       "      <td>Black Superman</td>\n",
       "      <td>G-Funk</td>\n",
       "      <td>0</td>\n",
       "    </tr>\n",
       "    <tr>\n",
       "      <th>70</th>\n",
       "      <td>Eazy-E</td>\n",
       "      <td>Real Muthaphuckkin' G's</td>\n",
       "      <td>G-Funk</td>\n",
       "      <td>0</td>\n",
       "    </tr>\n",
       "  </tbody>\n",
       "</table>\n",
       "</div>"
      ],
      "text/plain": [
       "    artistPrimary                    title   genre  cluster\n",
       "53  Above The Law           Black Superman  G-Funk        0\n",
       "70         Eazy-E  Real Muthaphuckkin' G's  G-Funk        0"
      ]
     },
     "execution_count": 83,
     "metadata": {},
     "output_type": "execute_result"
    }
   ],
   "source": [
    "songs.loc[(songs.genre == 'G-Funk') & (songs.cluster == 0), ['artistPrimary', 'title', 'genre', 'cluster']]"
   ]
  },
  {
   "cell_type": "code",
   "execution_count": 84,
   "metadata": {},
   "outputs": [
    {
     "data": {
      "text/html": [
       "<div>\n",
       "<style>\n",
       "    .dataframe thead tr:only-child th {\n",
       "        text-align: right;\n",
       "    }\n",
       "\n",
       "    .dataframe thead th {\n",
       "        text-align: left;\n",
       "    }\n",
       "\n",
       "    .dataframe tbody tr th {\n",
       "        vertical-align: top;\n",
       "    }\n",
       "</style>\n",
       "<table border=\"1\" class=\"dataframe\">\n",
       "  <thead>\n",
       "    <tr style=\"text-align: right;\">\n",
       "      <th></th>\n",
       "      <th>artistPrimary</th>\n",
       "      <th>title</th>\n",
       "      <th>genre</th>\n",
       "      <th>cluster</th>\n",
       "    </tr>\n",
       "  </thead>\n",
       "  <tbody>\n",
       "    <tr>\n",
       "      <th>4</th>\n",
       "      <td>Wu-Tang Clan</td>\n",
       "      <td>C.R.E.A.M.</td>\n",
       "      <td>Boom Bap</td>\n",
       "      <td>0</td>\n",
       "    </tr>\n",
       "    <tr>\n",
       "      <th>12</th>\n",
       "      <td>Group Home</td>\n",
       "      <td>Tha Realness</td>\n",
       "      <td>Boom Bap</td>\n",
       "      <td>0</td>\n",
       "    </tr>\n",
       "    <tr>\n",
       "      <th>17</th>\n",
       "      <td>AZ</td>\n",
       "      <td>Sugar Hill</td>\n",
       "      <td>Boom Bap</td>\n",
       "      <td>0</td>\n",
       "    </tr>\n",
       "    <tr>\n",
       "      <th>18</th>\n",
       "      <td>Big L</td>\n",
       "      <td>98 Freestyle</td>\n",
       "      <td>Boom Bap</td>\n",
       "      <td>0</td>\n",
       "    </tr>\n",
       "    <tr>\n",
       "      <th>25</th>\n",
       "      <td>Capone-N-Noreaga</td>\n",
       "      <td>T.O.N.Y. (Top Of New York)</td>\n",
       "      <td>Boom Bap</td>\n",
       "      <td>0</td>\n",
       "    </tr>\n",
       "    <tr>\n",
       "      <th>31</th>\n",
       "      <td>Kool G Rap &amp; DJ Polo</td>\n",
       "      <td>Ill Street Blues</td>\n",
       "      <td>Boom Bap</td>\n",
       "      <td>0</td>\n",
       "    </tr>\n",
       "    <tr>\n",
       "      <th>32</th>\n",
       "      <td>Lost Boyz</td>\n",
       "      <td>Jeeps, Lex Coups, Bimaz &amp; Benz</td>\n",
       "      <td>Boom Bap</td>\n",
       "      <td>0</td>\n",
       "    </tr>\n",
       "    <tr>\n",
       "      <th>37</th>\n",
       "      <td>Craig Mack</td>\n",
       "      <td>Flava In Ya Ear Remix - feat. Notorious B.I.G....</td>\n",
       "      <td>Boom Bap</td>\n",
       "      <td>0</td>\n",
       "    </tr>\n",
       "    <tr>\n",
       "      <th>45</th>\n",
       "      <td>Smif-N-Wessun</td>\n",
       "      <td>Sound Bwoy Bureill</td>\n",
       "      <td>Boom Bap</td>\n",
       "      <td>0</td>\n",
       "    </tr>\n",
       "    <tr>\n",
       "      <th>46</th>\n",
       "      <td>Organized Konfusion</td>\n",
       "      <td>Stress</td>\n",
       "      <td>Boom Bap</td>\n",
       "      <td>0</td>\n",
       "    </tr>\n",
       "  </tbody>\n",
       "</table>\n",
       "</div>"
      ],
      "text/plain": [
       "           artistPrimary                                              title  \\\n",
       "4           Wu-Tang Clan                                         C.R.E.A.M.   \n",
       "12            Group Home                                       Tha Realness   \n",
       "17                    AZ                                         Sugar Hill   \n",
       "18                 Big L                                       98 Freestyle   \n",
       "25      Capone-N-Noreaga                         T.O.N.Y. (Top Of New York)   \n",
       "31  Kool G Rap & DJ Polo                                   Ill Street Blues   \n",
       "32             Lost Boyz                     Jeeps, Lex Coups, Bimaz & Benz   \n",
       "37            Craig Mack  Flava In Ya Ear Remix - feat. Notorious B.I.G....   \n",
       "45         Smif-N-Wessun                                 Sound Bwoy Bureill   \n",
       "46   Organized Konfusion                                             Stress   \n",
       "\n",
       "       genre  cluster  \n",
       "4   Boom Bap        0  \n",
       "12  Boom Bap        0  \n",
       "17  Boom Bap        0  \n",
       "18  Boom Bap        0  \n",
       "25  Boom Bap        0  \n",
       "31  Boom Bap        0  \n",
       "32  Boom Bap        0  \n",
       "37  Boom Bap        0  \n",
       "45  Boom Bap        0  \n",
       "46  Boom Bap        0  "
      ]
     },
     "execution_count": 84,
     "metadata": {},
     "output_type": "execute_result"
    }
   ],
   "source": [
    "songs.loc[(songs.genre == 'Boom Bap') & (songs.cluster == 0), ['artistPrimary', 'title', 'genre', 'cluster']]"
   ]
  },
  {
   "cell_type": "code",
   "execution_count": 85,
   "metadata": {},
   "outputs": [
    {
     "data": {
      "text/plain": [
       "<matplotlib.axes._subplots.AxesSubplot at 0x11d4055f8>"
      ]
     },
     "execution_count": 85,
     "metadata": {},
     "output_type": "execute_result"
    },
    {
     "data": {
      "image/png": "[encoded data removed]",
      "text/plain": [
       "<matplotlib.figure.Figure at 0x11d4fefd0>"
      ]
     },
     "metadata": {},
     "output_type": "display_data"
    }
   ],
   "source": [
    "sns.swarmplot(x='acousticness', y='danceability', hue='genre', data=songs)"
   ]
  },
  {
   "cell_type": "code",
   "execution_count": 86,
   "metadata": {},
   "outputs": [
    {
     "data": {
      "text/plain": [
       "<matplotlib.axes._subplots.AxesSubplot at 0x11d9b3e48>"
      ]
     },
     "execution_count": 86,
     "metadata": {},
     "output_type": "execute_result"
    },
    {
     "data": {
      "image/png": "[encoded data removed]",
      "text/plain": [
       "<matplotlib.figure.Figure at 0x11dad2dd8>"
      ]
     },
     "metadata": {},
     "output_type": "display_data"
    }
   ],
   "source": [
    "sns.swarmplot(x='energy', y='instrumentalness', hue='genre', data=songs)"
   ]
  },
  {
   "cell_type": "code",
   "execution_count": 88,
   "metadata": {},
   "outputs": [
    {
     "data": {
      "text/plain": [
       "<matplotlib.axes._subplots.AxesSubplot at 0x11dfadda0>"
      ]
     },
     "execution_count": 88,
     "metadata": {},
     "output_type": "execute_result"
    },
    {
     "data": {
      "image/png": "[encoded data removed]",
      "text/plain": [
       "<matplotlib.figure.Figure at 0x11dd42b38>"
      ]
     },
     "metadata": {},
     "output_type": "display_data"
    }
   ],
   "source": [
    "sns.swarmplot(x='liveness', y='loudness', hue='genre', data=songs)"
   ]
  },
  {
   "cell_type": "code",
   "execution_count": 89,
   "metadata": {},
   "outputs": [
    {
     "data": {
      "text/plain": [
       "<matplotlib.axes._subplots.AxesSubplot at 0x11d1604e0>"
      ]
     },
     "execution_count": 89,
     "metadata": {},
     "output_type": "execute_result"
    },
    {
     "data": {
      "image/png": "[encoded data removed]",
      "text/plain": [
       "<matplotlib.figure.Figure at 0x11e049ac8>"
      ]
     },
     "metadata": {},
     "output_type": "display_data"
    }
   ],
   "source": [
    "sns.swarmplot(x='speechiness', y='valence', hue='genre', data=songs)"
   ]
  },
  {
   "cell_type": "code",
   "execution_count": null,
   "metadata": {
    "collapsed": true
   },
   "outputs": [],
   "source": []
  }
 ],
 "metadata": {
  "kernelspec": {
   "display_name": "Python 3",
   "language": "python",
   "name": "python3"
  },
  "language_info": {
   "codemirror_mode": {
    "name": "ipython",
    "version": 3
   },
   "file_extension": ".py",
   "mimetype": "text/x-python",
   "name": "python",
   "nbconvert_exporter": "python",
   "pygments_lexer": "ipython3",
   "version": "3.6.3"
  }
 },
 "nbformat": 4,
 "nbformat_minor": 2
}
